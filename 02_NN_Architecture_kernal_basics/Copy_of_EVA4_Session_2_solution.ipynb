{
  "cells": [
    {
      "cell_type": "code",
      "execution_count": 38,
      "metadata": {
        "colab": {
          "base_uri": "https://localhost:8080/"
        },
        "id": "0m2JWFliFfKT",
        "outputId": "bc07b81d-9950-4d86-c732-8523b7828340"
      },
      "outputs": [
        {
          "name": "stdout",
          "output_type": "stream",
          "text": [
            "Requirement already satisfied: torchsummary in /usr/local/lib/python3.7/dist-packages (1.5.1)\n"
          ]
        }
      ],
      "source": [
        "!pip install torchsummary\n",
        "from torchsummary import summary\n",
        "from __future__ import print_function\n",
        "import torch\n",
        "import torch.nn as nn\n",
        "import torch.nn.functional as F\n",
        "import torch.optim as optim\n",
        "from torchvision import datasets, transforms"
      ]
    },
    {
      "cell_type": "code",
      "execution_count": 64,
      "metadata": {
        "id": "h_Cx9q2QFgM7"
      },
      "outputs": [],
      "source": [
        "class Net(nn.Module):\n",
        "    def __init__(self):\n",
        "        super(Net, self).__init__()\n",
        "        # CLASStorch.nn.Conv2d(in_channels, out_channels, kernel_size, stride=1, padding=0, dilation=1, groups=1, bias=True, padding_mode='zeros', device=None, dtype=None)\n",
        "        #  conv2d format -> input channels, output channels, kernel size, kwargs\n",
        "        self.conv1 = nn.Conv2d(1, 32, 3, padding=1) #input -? OUtput? RF  \n",
        "        # conv1 : \n",
        "        # input -> 1 x 28 x 28\n",
        "        # output -> 32 x 28 x 28\n",
        "        # receptive field -> 3 x 3 \n",
        "        self.conv2 = nn.Conv2d(32, 64, 3, padding=1)\n",
        "        # conv2 : \n",
        "        # input -> 32 x 28 x 28\n",
        "        # output -> 64 x 28 x 28\n",
        "        # receptive field -> 5 x 5\n",
        "        self.pool1 = nn.MaxPool2d(2, 2)\n",
        "        # max pooled : \n",
        "        # input -> 64 x 28 x 28\n",
        "        # output -> 64 x 14 x 14\n",
        "        # receptive field -> 10 x 10\n",
        "        self.conv3 = nn.Conv2d(64, 128, 3, padding=1)\n",
        "        # conv3 : \n",
        "        # input -> 64 x 14 x 14\n",
        "        # output -> 128 x 14 x 14\n",
        "        # receptive field -> 12 x 12\n",
        "        self.conv4 = nn.Conv2d(128, 256, 3, padding=1)\n",
        "         # conv1 : \n",
        "        # input -> 128 x 14 x 14\n",
        "        # output -> 256 x 14 x 14\n",
        "        # receptive field -> 14 x 14\n",
        "        self.pool2 = nn.MaxPool2d(2, 2)\n",
        "        # max pooled : \n",
        "        # input -> 256 x 14 x 14\n",
        "        # output -> 256 x 7 x 7\n",
        "        # receptive field -> 28 x 28\n",
        "        self.conv5 = nn.Conv2d(256, 512, 3)\n",
        "        # con5 : \n",
        "        # input -> 256 x 7 x 7\n",
        "        # output -> 512 x 5 x 5\n",
        "        # receptive field -> 30 x 30\n",
        "        self.conv6 = nn.Conv2d(512, 1024, 3)\n",
        "        # conv6 : \n",
        "        # input -> 512 x 5 x 5\n",
        "        # output -> 1024 x 3 x 3\n",
        "        # receptive field -> 32 x 32\n",
        "        self.conv7 = nn.Conv2d(1024, 10, 3)\n",
        "        # conv7 : \n",
        "        # input -> 1024 x 3 x 3\n",
        "        # output -> 10 x 1 x 1\n",
        "        # receptive field -> 34 x 34\n",
        "    def forward(self, x):\n",
        "        x = self.pool1(self.conv2(self.conv1(x)))\n",
        "        x = self.pool2(self.conv4(self.conv3(x)))\n",
        "        x = self.conv6(self.conv5(x))\n",
        "        x = F.relu(self.conv7(x))\n",
        "        x = x.view(-1, 10)\n",
        "        return F.log_softmax(x, dim=0)"
      ]
    },
    {
      "cell_type": "code",
      "execution_count": 65,
      "metadata": {
        "colab": {
          "base_uri": "https://localhost:8080/"
        },
        "id": "YdtVMmhQ3DYv",
        "outputId": "b1ba7987-5727-422d-9ce2-4f1c38c4e7d7"
      },
      "outputs": [
        {
          "name": "stdout",
          "output_type": "stream",
          "text": [
            "1 32\n"
          ]
        }
      ],
      "source": [
        "model = Net()\n",
        "print(model.conv1.in_channels, model.conv1.out_channels)"
      ]
    },
    {
      "cell_type": "code",
      "execution_count": 66,
      "metadata": {
        "colab": {
          "base_uri": "https://localhost:8080/"
        },
        "id": "xdydjYTZFyi3",
        "outputId": "3c94fa3c-831e-41cc-9035-262bcda37435"
      },
      "outputs": [
        {
          "name": "stdout",
          "output_type": "stream",
          "text": [
            "----------------------------------------------------------------\n",
            "        Layer (type)               Output Shape         Param #\n",
            "================================================================\n",
            "            Conv2d-1           [-1, 32, 28, 28]             320\n",
            "            Conv2d-2           [-1, 64, 28, 28]          18,496\n",
            "         MaxPool2d-3           [-1, 64, 14, 14]               0\n",
            "            Conv2d-4          [-1, 128, 14, 14]          73,856\n",
            "            Conv2d-5          [-1, 256, 14, 14]         295,168\n",
            "         MaxPool2d-6            [-1, 256, 7, 7]               0\n",
            "            Conv2d-7            [-1, 512, 5, 5]       1,180,160\n",
            "            Conv2d-8           [-1, 1024, 3, 3]       4,719,616\n",
            "            Conv2d-9             [-1, 10, 1, 1]          92,170\n",
            "================================================================\n",
            "Total params: 6,379,786\n",
            "Trainable params: 6,379,786\n",
            "Non-trainable params: 0\n",
            "----------------------------------------------------------------\n",
            "Input size (MB): 0.00\n",
            "Forward/backward pass size (MB): 1.51\n",
            "Params size (MB): 24.34\n",
            "Estimated Total Size (MB): 25.85\n",
            "----------------------------------------------------------------\n"
          ]
        }
      ],
      "source": [
        "# checking if we have cuda compatible GPU\n",
        "# if not, we'll use CPU instead 😪\n",
        "use_cuda = torch.cuda.is_available()\n",
        "device = torch.device(\"cuda\" if use_cuda else \"cpu\")\n",
        "model = Net().to(device)\n",
        "# spills out summary of the model based on a given input size\n",
        "summary(model, input_size=(1, 28, 28))"
      ]
    },
    {
      "cell_type": "code",
      "execution_count": 67,
      "metadata": {
        "id": "DqTWLaM5GHgH"
      },
      "outputs": [],
      "source": [
        "# to pop out similar randomness (deterministic) \n",
        "torch.manual_seed(1)\n",
        "batch_size = 128\n",
        "\n",
        "# to keep data in memory, pinned memory helps in faster data transfer \n",
        "# to gpu\n",
        "kwargs = {'num_workers': 1, 'pin_memory': True} if use_cuda else {}\n",
        "train_loader = torch.utils.data.DataLoader(\n",
        "    datasets.MNIST('../data', train=True, download=True,\n",
        "                    transform=transforms.Compose([\n",
        "                        transforms.ToTensor(),\n",
        "                        transforms.Normalize((0.1307,), (0.3081,))\n",
        "                    ])),\n",
        "    batch_size=batch_size, shuffle=True, **kwargs)\n",
        "test_loader = torch.utils.data.DataLoader(\n",
        "    datasets.MNIST('../data', train=False, transform=transforms.Compose([\n",
        "                        transforms.ToTensor(),\n",
        "                        transforms.Normalize((0.1307,), (0.3081,))\n",
        "                    ])),\n",
        "    batch_size=batch_size, shuffle=True, **kwargs)\n"
      ]
    },
    {
      "cell_type": "code",
      "execution_count": 68,
      "metadata": {
        "id": "8fDefDhaFlwH"
      },
      "outputs": [],
      "source": [
        "from tqdm import tqdm\n",
        "def train(model, device, train_loader, optimizer, epoch):\n",
        "    model.train()\n",
        "    pbar = tqdm(train_loader)\n",
        "    for batch_idx, (data, target) in enumerate(pbar):\n",
        "        data, target = data.to(device), target.to(device)\n",
        "        optimizer.zero_grad()\n",
        "        output = model(data)\n",
        "        loss = F.nll_loss(output, target)\n",
        "        loss.backward()\n",
        "        optimizer.step()\n",
        "        pbar.set_description(desc= f'loss={loss.item()} batch_id={batch_idx}')\n",
        "\n",
        "\n",
        "def test(model, device, test_loader):\n",
        "    model.eval()\n",
        "    test_loss = 0\n",
        "    correct = 0\n",
        "    with torch.no_grad():\n",
        "        for data, target in test_loader:\n",
        "            data, target = data.to(device), target.to(device)\n",
        "            output = model(data)\n",
        "            test_loss += F.nll_loss(output, target, reduction='sum').item()  # sum up batch loss\n",
        "            pred = output.argmax(dim=1, keepdim=True)  # get the index of the max log-probability\n",
        "            correct += pred.eq(target.view_as(pred)).sum().item()\n",
        "\n",
        "    test_loss /= len(test_loader.dataset)\n",
        "\n",
        "    print('\\nTest set: Average loss: {:.4f}, Accuracy: {}/{} ({:.0f}%)\\n'.format(\n",
        "        test_loss, correct, len(test_loader.dataset),\n",
        "        100. * correct / len(test_loader.dataset)))"
      ]
    },
    {
      "cell_type": "code",
      "execution_count": 74,
      "metadata": {
        "colab": {
          "base_uri": "https://localhost:8080/"
        },
        "id": "MMWbLWO6FuHb",
        "outputId": "540d7d04-2bc4-4404-d031-80b8a6bc1033"
      },
      "outputs": [
        {
          "name": "stderr",
          "output_type": "stream",
          "text": [
            "loss=2.5393459796905518 batch_id=468: 100%|██████████| 469/469 [00:35<00:00, 13.26it/s]\n"
          ]
        },
        {
          "name": "stdout",
          "output_type": "stream",
          "text": [
            "\n",
            "Test set: Average loss: 2.8411, Accuracy: 9767/10000 (98%)\n",
            "\n"
          ]
        }
      ],
      "source": [
        "model = Net().to(device)\n",
        "# stochastic gradient descent\n",
        "optimizer = optim.SGD(model.parameters(), lr=0.05, momentum=0.9)\n",
        "\n",
        "for epoch in range(1, 2):\n",
        "    train(model, device, train_loader, optimizer, epoch)\n",
        "    test(model, device, test_loader)"
      ]
    },
    {
      "cell_type": "code",
      "execution_count": null,
      "metadata": {
        "id": "So5uk4EkHW6R"
      },
      "outputs": [],
      "source": []
    }
  ],
  "metadata": {
    "accelerator": "GPU",
    "colab": {
      "collapsed_sections": [],
      "name": "Copy of EVA4 - Session 2 - solution.ipynb",
      "provenance": []
    },
    "kernelspec": {
      "display_name": "Python 3",
      "name": "python3"
    }
  },
  "nbformat": 4,
  "nbformat_minor": 0
}
